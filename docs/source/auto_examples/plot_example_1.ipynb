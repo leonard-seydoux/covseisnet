{
  "cells": [
    {
      "cell_type": "markdown",
      "metadata": {},
      "source": [
        "\n# Single-station covariance matrix\n\nInterchannel spectral covariance matrix calculated from the example trace\navailable in obspy.\n\nWe consider the continuous seismograms at the station RJOB from the BW seismic\nnetwork. The data is available in the obspy example data, readable without any\nargument. In this case, the covariance matrix is calculated between the three\nchannels of the station RJOB, and has three components. \n\nThe following example use a Fourier estimation window of 1 second and is\nestimated over 5 consecutive windows.\n"
      ]
    },
    {
      "cell_type": "code",
      "execution_count": null,
      "metadata": {
        "collapsed": false
      },
      "outputs": [],
      "source": [
        "import matplotlib.pyplot as plt\nimport numpy as np\n\nimport covseisnet as csn\n\n# Read example stream\nstream = csn.read()\n\n# Pre-process stream\nstream.detrend(\"linear\")\nstream.taper(max_percentage=0.05)\nstream.filter(\"highpass\", freq=2)\n\n\n# Get channels\nchannels = [trace.stats.channel for trace in stream]\n\n# Calculate covariance matrix\ntimes, frequencies, covariances = csn.calculate_covariance_matrix(\n    stream,\n    window_duration_sec=1.0,\n    average=4,\n)\n\n# Calculate coherence\ncoherence = covariances.coherence()\n\n# show covariance from first window and first frequency\ncovariance_show = np.random.rand(3, 3)\n\n# Show\nfig, ax = plt.subplots(nrows=2, ncols=1, sharex=True, constrained_layout=True)\n\n# Show trace\nfor index, trace in enumerate(stream):\n    waveform = trace.data\n    waveform /= np.max(np.abs(waveform))\n    ax[0].plot(trace.times(), waveform + index, label=trace.stats.channel)\nmappable = ax[1].pcolormesh(\n    times, frequencies, coherence.T, cmap=\"magma_r\", vmin=0, vmax=1\n)\n\n# Labels\nax[0].grid()\nax[0].set_ylabel(\"Amplitude (counts)\")\nax[1].set_yscale(\"log\")\nax[1].set_ylim(frequencies[1], frequencies[-1] / 2)\nax[1].set_xlabel(\"Time (s)\")\nax[1].set_ylabel(\"Frequency (Hz)\")\nplt.colorbar(mappable).set_label(\"Covariance matrix\\nspectral width\")\n\n# mappable = ax.matshow(covariance_show, vmin=0, vmax=1, cmap=\"RdPu\")\n\n# Axes\n# channels = [trace.stats.channel for trace in stream]\n# ax.set_xticks(range(len(stream)), labels=channels)\n# ax.set_yticks(range(len(stream)), labels=channels)\n\n# # Labels\n# ax.set_title(\"Single-station channel-wise covariance\")\n# plt.colorbar(mappable).set_label(\"Covariance modulus\")"
      ]
    }
  ],
  "metadata": {
    "kernelspec": {
      "display_name": "Python 3",
      "language": "python",
      "name": "python3"
    },
    "language_info": {
      "codemirror_mode": {
        "name": "ipython",
        "version": 3
      },
      "file_extension": ".py",
      "mimetype": "text/x-python",
      "name": "python",
      "nbconvert_exporter": "python",
      "pygments_lexer": "ipython3",
      "version": "3.12.3"
    }
  },
  "nbformat": 4,
  "nbformat_minor": 0
}