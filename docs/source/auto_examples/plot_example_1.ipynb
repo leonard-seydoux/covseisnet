{
  "cells": [
    {
      "cell_type": "markdown",
      "metadata": {},
      "source": [
        "\n# Single-station covariance matrix\n\nInterchannel spectral covariance matrix calculated from the example trace\navailable in obspy.\n\nWe consider the continuous seismograms at the station RJOB from the BW seismic\nnetwork. The data is available in the obspy example data, readable without any\nargument. In this case, the covariance matrix is calculated between the three\nchannels of the station RJOB, and has three components. \n\nThe following example use a Fourier estimation window of 1 second and is\nestimated over 5 consecutive windows.\n"
      ]
    },
    {
      "cell_type": "code",
      "execution_count": null,
      "metadata": {
        "collapsed": false
      },
      "outputs": [],
      "source": [
        "import matplotlib.pyplot as plt\nimport numpy as np\n\nimport covseisnet as csn\n\n# Read example stream\nstream = csn.read()\n\n# Echo stream\nprint(stream)\n\n# Get channels\nchannels = [trace.stats.channel for trace in stream]\n\n# # calculate covariance from stream\n# window_duration_sec = 1.0\n# average = 5\n# times, frequencies, covariances = csn.covariancematrix.calculate(\n#     stream, window_duration_sec, average\n# )\n\n# show covariance from first window and first frequency\ncovariance_show = np.random.randn(3, 3)\n\n# Show\nfig, ax = plt.subplots()\nmappable = ax.matshow(covariance_show)\n\n# Labels\nax.set_xticks(range(len(channels)), labels=channels)\nax.set_yticks(range(len(channels)), labels=channels)\nax.set_title(\"Single-station multiple channels covariance\")\nplt.colorbar(mappable).set_label(\"Covariance modulus\")\n\n# Show\nplt.show()"
      ]
    }
  ],
  "metadata": {
    "kernelspec": {
      "display_name": "Python 3",
      "language": "python",
      "name": "python3"
    },
    "language_info": {
      "codemirror_mode": {
        "name": "ipython",
        "version": 3
      },
      "file_extension": ".py",
      "mimetype": "text/x-python",
      "name": "python",
      "nbconvert_exporter": "python",
      "pygments_lexer": "ipython3",
      "version": "3.12.3"
    }
  },
  "nbformat": 4,
  "nbformat_minor": 0
}