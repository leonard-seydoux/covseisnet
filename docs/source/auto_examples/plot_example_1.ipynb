{
  "cells": [
    {
      "cell_type": "markdown",
      "metadata": {},
      "source": [
        "\n# Single-station coherence\n\nInterchannel spectral covariance matrix calculated from the example trace\navailable in obspy.\n\nWe consider the continuous seismograms at the station RJOB from the BW seismic\nnetwork. The data is available in the obspy example data, readable without any\nargument. In this case, the covariance matrix is calculated between the three\nchannels of the station RJOB, and has three components. \n\nThe following example use a Fourier estimation window of 1 second and is\nestimated over 5 consecutive windows.\n"
      ]
    },
    {
      "cell_type": "code",
      "execution_count": null,
      "metadata": {
        "collapsed": false
      },
      "outputs": [],
      "source": [
        "import matplotlib.pyplot as plt\nimport numpy as np\n\nimport covseisnet as csn"
      ]
    },
    {
      "cell_type": "markdown",
      "metadata": {},
      "source": [
        "## Read and pre-process stream\n\nThe stream is read and pre-processed by detrending, tapering, and highpass\nfiltering. Several other pre-processing methods are available in the\n:class:`~covseisnet.stream.NetworkStream` class.\n\n"
      ]
    },
    {
      "cell_type": "code",
      "execution_count": null,
      "metadata": {
        "collapsed": false
      },
      "outputs": [],
      "source": [
        "# Read example stream\nstream = csn.read()\n\n# Pre-process stream\nstream.detrend(\"linear\")\nstream.taper(max_percentage=0.05)\nstream.filter(\"highpass\", freq=2)\n\n# Get channels\nchannels = [trace.stats.channel for trace in stream]"
      ]
    },
    {
      "cell_type": "markdown",
      "metadata": {},
      "source": [
        "## Calculate the covariance matrix\n\nThe covariance matrix is calculated using the method :func:`~covseisnet.covariance.calculate_covariance_matrix`. The method returns the times, frequencies, and covariances of the covariance matrix. Among the parameters of the method, the window duration and the number of windows are important to consider. The window duration is the length of the Fourier estimation window in seconds, and the number of windows is the number of windows to average to estimate the covariance matrix. We can then visualize the covariance matrix at a given time and frequency, and its corresponding eigenvalues.\n\n"
      ]
    },
    {
      "cell_type": "code",
      "execution_count": null,
      "metadata": {
        "collapsed": false
      },
      "outputs": [],
      "source": [
        "times, frequencies, covariances = csn.calculate_covariance_matrix(\n    stream,\n    window_duration_sec=1.0,\n    average=5,\n)\n\n# Show covariance from first window and first frequency\ncovariance = covariances[0, 0]\ncovariance /= np.max(np.abs(covariance))\n\n# Calculate eigenvalues\neigenvalues = covariance.eigenvalues(norm=sum)\n\n# Show\nfig, ax = plt.subplots(ncols=2, figsize=(6, 2.7), constrained_layout=True)\nmappable = ax[0].matshow(np.abs(covariance), cmap=\"GnBu\", vmin=0)\nax[0].set_xticks(range(len(stream)), labels=channels)\nax[0].set_yticks(range(len(stream)), labels=channels)\nax[0].xaxis.set_ticks_position(\"bottom\")\nax[0].set_xlabel(r\"Channel $i$\")\nax[0].set_ylabel(r\"Channel $j$\")\nax[0].set_title(\"Covariance matrix\")\nax[1].plot(eigenvalues, marker=\"o\")\nax[1].set_ylim(bottom=0, top=1)\nax[1].set_xticks(range(len(eigenvalues)))\nax[1].set_xlabel(r\"Eigenvalue index ($n$)\")\nax[1].set_ylabel(r\"Eigenvalue ($\\lambda_n$)\")\nax[1].set_title(\"Eigenspectrum\")\nax[1].grid()\nplt.colorbar(mappable).set_label(\"Covariance modulus\")"
      ]
    },
    {
      "cell_type": "markdown",
      "metadata": {},
      "source": [
        "## Calculate coherence\n\nWe here extract the coherence from the covariance matrix. The coherence is\ncalculated using the method\n:func:`~covseisnet.covariance.CovarianceMatrix.coherence`. It can either\nmeasure the spectral width of the eigenvalue distribution at each frequency,\nor with applying the formula of the Neumann entropy.\n\n"
      ]
    },
    {
      "cell_type": "code",
      "execution_count": null,
      "metadata": {
        "collapsed": false
      },
      "outputs": [],
      "source": [
        "# Calculate coherence\ncoherence = covariances.coherence()\n\n\n# Show\n# sphinx_gallery_thumbnail_number = 2\nfig, ax = plt.subplots(nrows=2, ncols=1, sharex=True, constrained_layout=True)\n\n# Show traces\nfor index, trace in enumerate(stream):\n    waveform = trace.data\n    waveform /= np.max(np.abs(waveform)) * 2\n    ax[0].plot(trace.times(), waveform + index, color=\"k\")\n\n# Show coherence\nmappable = ax[1].pcolormesh(\n    times,\n    frequencies,\n    coherence.T,\n    cmap=\"magma_r\",\n    vmin=0,\n    vmax=1,\n)\n\n# Labels\nax[0].set_title(\"Normalized seismograms\")\nax[0].grid()\nax[0].set_yticks(range(len(stream)), labels=channels)\nax[0].set_ylabel(\"Normalized amplitude\")\nax[1].set_title(\"Coherence\")\nax[1].set_yscale(\"log\")\nax[1].set_ylim(frequencies[1], frequencies[-1] / 2)\nax[1].set_xlabel(\"Time (s)\")\nax[1].set_ylabel(\"Frequency (Hz)\")\nplt.colorbar(mappable).set_label(\"Covariance matrix\\nspectral width\")"
      ]
    },
    {
      "cell_type": "markdown",
      "metadata": {},
      "source": [
        "More about this result in the papers associated with the package, presented\nin the home of this documentation.\n\n"
      ]
    }
  ],
  "metadata": {
    "kernelspec": {
      "display_name": "Python 3",
      "language": "python",
      "name": "python3"
    },
    "language_info": {
      "codemirror_mode": {
        "name": "ipython",
        "version": 3
      },
      "file_extension": ".py",
      "mimetype": "text/x-python",
      "name": "python",
      "nbconvert_exporter": "python",
      "pygments_lexer": "ipython3",
      "version": "3.12.4"
    }
  },
  "nbformat": 4,
  "nbformat_minor": 0
}