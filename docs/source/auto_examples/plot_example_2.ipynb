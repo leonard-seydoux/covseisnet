{
  "cells": [
    {
      "cell_type": "markdown",
      "metadata": {},
      "source": [
        "\n# Stream synchronization\n\nThis example demonstrates how to synchronize a stream of traces using the\n:func:`~covseisnet.stream.Stream.synchronize` method. This method finds the \nlatest start time and the earliest end time among the traces in the stream, and\ninterpolates the traces between these times with a common sampling interval.\nMore information about the method can be found in the documentation.\n"
      ]
    },
    {
      "cell_type": "code",
      "execution_count": null,
      "metadata": {
        "collapsed": false
      },
      "outputs": [],
      "source": [
        "import matplotlib.dates as mdates\nimport matplotlib.pyplot as plt\n\nimport covseisnet as csn\n\n# Read the example stream (shipped with ObsPy)\nstream = csn.read()\n\n# Highpass filter the stream to better see the sync in high frequencies\nstream.filter(\"highpass\", freq=30)\nprint(stream)"
      ]
    },
    {
      "cell_type": "markdown",
      "metadata": {},
      "source": [
        "## Desynchronize the traces\n\nThis first section desynchronizes the traces in the stream, in order to\ndemonstrate the synchronization method from the example stream. The traces\nare shifted in time by different amounts, and a small number of samples are\ncollected for visualization.\n\n"
      ]
    },
    {
      "cell_type": "code",
      "execution_count": null,
      "metadata": {
        "collapsed": false
      },
      "outputs": [],
      "source": [
        "# Collect a reference start time and sampling interval\nstarttime = stream[0].stats.starttime\nsampling_interval = stream[0].stats.delta\n\n# Desynchronize the traces\nstream[1].stats.starttime = starttime + sampling_interval * 1.3\nstream[2].stats.starttime = starttime + sampling_interval * 0.6\n\n# Collect a small number of samples for visualization\nsart_sample = 1000\nn_samples = 20\nfor trace in stream:\n    trace.data = trace.data[sart_sample : sart_sample + n_samples]\n\nprint(stream)"
      ]
    },
    {
      "cell_type": "markdown",
      "metadata": {},
      "source": [
        "## Synchronize the traces\n\nWe now synchronize the traces in the stream using the\n:func:`~covseisnet.stream.Stream.synchronize` method. The method finds the\nlatest start time and the earliest end time among the traces in the stream,\nand aligns the traces to these times with interpolation.\n\n"
      ]
    },
    {
      "cell_type": "code",
      "execution_count": null,
      "metadata": {
        "collapsed": false
      },
      "outputs": [],
      "source": [
        "# Synchronize the traces\nstream_sync = stream.copy()\nstream_sync.synchronize()\nprint(stream_sync)"
      ]
    },
    {
      "cell_type": "markdown",
      "metadata": {},
      "source": [
        "## Compare synchronized and original traces\n\nThe synchronized traces are plotted alongside the original traces to compare\nthe effect of the synchronization method. Note that several interpolation\nmethods are available in the synchronization method. Chech the documentation\nfor more information.\n\n"
      ]
    },
    {
      "cell_type": "code",
      "execution_count": null,
      "metadata": {
        "collapsed": false
      },
      "outputs": [],
      "source": [
        "# Create figure\nfig, ax = plt.subplots(3, sharex=True, sharey=True, constrained_layout=True)\n\n# Loop over traces\nfor trace, synced, subplot in zip(stream, stream_sync, ax):\n\n    # Plot traces\n    subplot.plot(trace.times(\"matplotlib\"), trace.data, \".-\", label=\"Original\")\n    subplot.plot(synced.times(\"matplotlib\"), synced.data, \".-\", label=\"Synced\")\n\n    # Local settings\n    subplot.grid()\n    subplot.set_title(trace.id, size=\"medium\", weight=\"normal\")\n\n# Labels\nax[0].legend(loc=\"upper right\")\nax[1].set_ylabel(\"Amplitude (counts)\")\n\n# Date formatting\nxticks = mdates.AutoDateLocator()\nxticklabels = mdates.ConciseDateFormatter(xticks)\nax[2].xaxis.set_major_locator(xticks)\nax[2].xaxis.set_major_formatter(xticklabels)"
      ]
    }
  ],
  "metadata": {
    "kernelspec": {
      "display_name": "Python 3",
      "language": "python",
      "name": "python3"
    },
    "language_info": {
      "codemirror_mode": {
        "name": "ipython",
        "version": 3
      },
      "file_extension": ".py",
      "mimetype": "text/x-python",
      "name": "python",
      "nbconvert_exporter": "python",
      "pygments_lexer": "ipython3",
      "version": "3.12.4"
    }
  },
  "nbformat": 4,
  "nbformat_minor": 0
}