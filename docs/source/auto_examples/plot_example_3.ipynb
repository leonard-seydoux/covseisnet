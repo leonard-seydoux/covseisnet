{
  "cells": [
    {
      "cell_type": "markdown",
      "metadata": {},
      "source": [
        "\n# Stream whitening\n\nThis example show the effect of spectral whitening on a stream of traces.\nThe stream is read from the obspy example data, and the whitening is performed\nwith the method :func:`~covseisnet.stream.NetworkStream.whiten`. The method\napplies a Fourier transform to the traces, divides the spectrum of the traces\nby the modulus of the spectrum (or a smooth version of it), and then applies the\ninverse Fourier transform to the traces.\n"
      ]
    },
    {
      "cell_type": "code",
      "execution_count": null,
      "metadata": {
        "collapsed": false
      },
      "outputs": [],
      "source": [
        "import matplotlib.pyplot as plt\n\nimport covseisnet as csn"
      ]
    },
    {
      "cell_type": "markdown",
      "metadata": {},
      "source": [
        "## Read the example stream (shipped with ObsPy)\n\nThe stream is read from the obspy example data, and is available without any\nargument. The stream is then plotted to visualize the traces.\n\n"
      ]
    },
    {
      "cell_type": "code",
      "execution_count": null,
      "metadata": {
        "collapsed": false
      },
      "outputs": [],
      "source": [
        "stream = csn.read()\n\n# Plot trace and corresponding spectrum\ncsn.plotting.plot_trace_and_spectrum(stream[0])"
      ]
    },
    {
      "cell_type": "markdown",
      "metadata": {},
      "source": [
        "## Spectral whitening on a small window\n\nThe spectral whitening is applied to the stream using the method\n:func:`~covseisnet.stream.NetworkStream.whiten`. The method applies a Fourier\ntransform to the traces, divides the spectrum of the traces by the modulus of\nthe spectrum (or a smooth version of it), and then applies the inverse Fourier\ntransform to the traces. The whit\n\n"
      ]
    },
    {
      "cell_type": "code",
      "execution_count": null,
      "metadata": {
        "collapsed": false
      },
      "outputs": [],
      "source": [
        "whitened_stream = stream.copy()\nwhitened_stream.whiten(window_duration_sec=2)\n\n# Plot whitened trace and corresponding spectrum\ncsn.plotting.plot_trace_and_spectrum(whitened_stream[0])"
      ]
    },
    {
      "cell_type": "markdown",
      "metadata": {},
      "source": [
        "## Spectral whitening on the entire signal\n\nThe spectral whitening is applied to the stream using the method\n:func:`~covseisnet.stream.NetworkStream.whiten`. The method applies a Fourier\ntransform to the traces, divides the spectrum of the traces by the modulus of\nthe spectrum (or a smooth version of it), and then applies the inverse Fourier\ntransform to the traces. The whit\n\n"
      ]
    },
    {
      "cell_type": "code",
      "execution_count": null,
      "metadata": {
        "collapsed": false
      },
      "outputs": [],
      "source": [
        "whitened_stream = stream.copy()\nwhitened_stream.whiten(window_duration_sec=20)\n\n# Plot whitened trace and corresponding spectrum\ncsn.plotting.plot_trace_and_spectrum(whitened_stream[0])"
      ]
    }
  ],
  "metadata": {
    "kernelspec": {
      "display_name": "Python 3",
      "language": "python",
      "name": "python3"
    },
    "language_info": {
      "codemirror_mode": {
        "name": "ipython",
        "version": 3
      },
      "file_extension": ".py",
      "mimetype": "text/x-python",
      "name": "python",
      "nbconvert_exporter": "python",
      "pygments_lexer": "ipython3",
      "version": "3.12.3"
    }
  },
  "nbformat": 4,
  "nbformat_minor": 0
}