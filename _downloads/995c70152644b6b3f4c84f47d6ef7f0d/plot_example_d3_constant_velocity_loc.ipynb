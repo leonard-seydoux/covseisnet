{
  "cells": [
    {
      "cell_type": "markdown",
      "metadata": {},
      "source": [
        "\n# Locating events within a constant velocity model\n\nThis example shows how to calculate the differential travel times of seismic\nwaves in a constant velocity model between two receivers. We first define the\nmodel and the sources and receivers coordinates. We then calculate the travel\ntimes for each receiver using the class\n:class:`~covseisnet.travel_times.TravelTimes`, and we calculate the differential\ntravel times using the class\n:class:`~covseisnet.travel_times.DifferentialTravelTimes`. Finally, we locate the\nsource of the seismic waves using the class\n:class:`~covseisnet.backprojection.DifferentialBackProjection` and plot the\nresults on a map. \n"
      ]
    },
    {
      "cell_type": "code",
      "execution_count": null,
      "metadata": {
        "collapsed": false
      },
      "outputs": [],
      "source": [
        "import covseisnet as csn"
      ]
    },
    {
      "cell_type": "markdown",
      "metadata": {},
      "source": [
        "## Load seismograms\n\nWe first load the seismograms from the example data set. We downloaded the\nseismogram from the Wilber 3 interface at\nhttps://ds.iris.edu/wilber3/data_request/leonard-seydoux/2020-10-05-mb44-aegean-sea-1.\nThese seismograms contains the record of the Mb 4.4 earthquake that occurred\nin the Aegean Sea on October 5, 2020 at 14:57:51 UTC at 39.9\u00b0N, 23.3\u00b0 E and\n10 km depth.\n\nWe also pre-process the seismograms by merging overlapping traces, removing\nthe linear trend, filtering the data with a high-pass filter with a corner\nfrequency of 0.01 Hz, and synchronizing the traces, as shown in the other\nexamples.\n\n"
      ]
    },
    {
      "cell_type": "code",
      "execution_count": null,
      "metadata": {
        "collapsed": false
      },
      "outputs": [],
      "source": [
        "# Load seismograms\nstream = csn.NetworkStream.read(\"../data/aegean_sea_example.mseed\")\n\n# Pre-process\nstream.merge(1, fill_value=0)\nstream.detrend(\"linear\")\nstream.filter(\"highpass\", freq=0.01)\nstream.synchronize()"
      ]
    },
    {
      "cell_type": "markdown",
      "metadata": {},
      "source": [
        "## Associate coordinates to the seismograms\n\nWe associate the coordinates of the seismograms to the traces using the\nmethod :func:`~covseisnet.stream.Stream.assign_coordinates`. The coordinates\n\n"
      ]
    },
    {
      "cell_type": "code",
      "execution_count": null,
      "metadata": {
        "collapsed": false
      },
      "outputs": [],
      "source": [
        "inventory = stream.download_inventory(datacenter=\"NOA\")\nstream.assign_coordinates(inventory)"
      ]
    },
    {
      "cell_type": "markdown",
      "metadata": {},
      "source": [
        "## Create a constant velocity model\n\nWe first create a constant velocity model with a velocity of 5 km/s. In order\nto do so, we simply need to define the geographical extent of the model, the\nresolution of the grid, and the velocity.\n\n"
      ]
    },
    {
      "cell_type": "code",
      "execution_count": null,
      "metadata": {
        "collapsed": false
      },
      "outputs": [],
      "source": [
        "model = csn.velocity.ConstantVelocityModel(\n    extent=(40, 41, 50, 51, 0, 20),\n    shape=(20, 20, 20),\n    velocity=3.5,\n)"
      ]
    },
    {
      "cell_type": "markdown",
      "metadata": {},
      "source": [
        "## Calculate the travel times between the sources and the receiver\n\nEach grid point of the model is considered as a source and the receiver is\ndefined by the user. In the example below, the receiver is located at\ncoordinates (40.7, 50.2, 0), somewhere in the model's domain. The travel\ntimes are calculated using the class\n:class:`~covseisnet.travel_times.TravelTimes`.\n\nWe can then represent the travel times on a map using the method\n:func:`~covseisnet.plot.grid3d`.\n\n"
      ]
    },
    {
      "cell_type": "code",
      "execution_count": null,
      "metadata": {
        "collapsed": false
      },
      "outputs": [],
      "source": [
        "# Calculate the travel times\ntraveltime_1 = csn.travel_times.TravelTimes(\n    model, receiver_coordinates=(40.7, 50.2, 0)\n)\n\ntraveltime_2 = csn.travel_times.TravelTimes(\n    model, receiver_coordinates=(40.2, 50.9, 0)\n)\n\n# Plot the traveltime grid\nax = csn.plot.grid3d(\n    traveltime_1,\n    cmap=\"RdPu\",\n    label=\"Travel time (s)\",\n    vmin=0,\n)"
      ]
    },
    {
      "cell_type": "markdown",
      "metadata": {},
      "source": [
        "---------------------------------------\n\nThe differential travel times are calculated using the class\n:class:`~covseisnet.travel_times.DifferentialTravelTimes`. The differential\ntravel times are calculated between the two receivers defined above, and\nshown on a map using the function :func:`~covseisnet.plot.grid3d`.\n\n"
      ]
    },
    {
      "cell_type": "code",
      "execution_count": null,
      "metadata": {
        "collapsed": false
      },
      "outputs": [],
      "source": [
        "# Calculate the differential travel times\ndifferential_traveltime = csn.travel_times.DifferentialTravelTimes(\n    traveltime_1, traveltime_2\n)\n\n# Plot the differential traveltime grid\nax = csn.plot.grid3d(differential_traveltime, label=\"Travel time (s)\")"
      ]
    }
  ],
  "metadata": {
    "kernelspec": {
      "display_name": "Python 3",
      "language": "python",
      "name": "python3"
    },
    "language_info": {
      "codemirror_mode": {
        "name": "ipython",
        "version": 3
      },
      "file_extension": ".py",
      "mimetype": "text/x-python",
      "name": "python",
      "nbconvert_exporter": "python",
      "pygments_lexer": "ipython3",
      "version": "3.12.6"
    }
  },
  "nbformat": 4,
  "nbformat_minor": 0
}