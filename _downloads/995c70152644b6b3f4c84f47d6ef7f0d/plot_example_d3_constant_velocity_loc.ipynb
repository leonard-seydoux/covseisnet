{
  "cells": [
    {
      "cell_type": "markdown",
      "metadata": {},
      "source": [
        "\n# Locating events within a constant velocity model\n\nThis example shows how to calculate the differential travel times of seismic\nwaves in a constant velocity model between two receivers. We first define the\nmodel and the sources and receivers coordinates. We then calculate the travel\ntimes for each receiver using the class\n:class:`~covseisnet.travel_times.TravelTimes`, and we calculate the differential\ntravel times using the class\n:class:`~covseisnet.travel_times.DifferentialTravelTimes`. Finally, we locate the\nsource of the seismic waves using the class\n:class:`~covseisnet.backprojection.DifferentialBackProjection` and plot the\nresults on a map. \n"
      ]
    },
    {
      "cell_type": "code",
      "execution_count": null,
      "metadata": {
        "collapsed": false
      },
      "outputs": [],
      "source": [
        "from cartopy.crs import PlateCarree\nimport matplotlib.pyplot as plt\n\nimport covseisnet as csn\nfrom covseisnet.travel_times import TravelTimes, DifferentialTravelTimes\nfrom covseisnet.backprojection import DifferentialBackProjection"
      ]
    },
    {
      "cell_type": "markdown",
      "metadata": {},
      "source": [
        "## Load seismograms\n\nWe first load the seismograms from the example data set. We downloaded the\nseismogram from the Wilber 3 interface at\nhttps://ds.iris.edu/wilber3/data_request/leonard-seydoux/2020-10-05-mb44-aegean-sea-1.\nThese seismograms contains the record of the Mb 4.4 earthquake that occurred\nin the Aegean Sea on October 5, 2020 at 14:57:51 UTC at 39.9\u00b0N, 23.3\u00b0 E and\n10 km depth.\n\nWe also pre-process the seismograms by merging overlapping traces, removing\nthe linear trend, filtering the data with a high-pass filter with a corner\nfrequency of 0.01 Hz, and synchronizing the traces, as shown in the other\nexamples.\n\n"
      ]
    },
    {
      "cell_type": "code",
      "execution_count": null,
      "metadata": {
        "collapsed": false
      },
      "outputs": [],
      "source": [
        "# Load seismograms\nstream = csn.NetworkStream.read(\"../data/aegean_sea_example.mseed\")\n\n# Pre-process\nstream.merge(1, fill_value=0)\nstream.detrend(\"linear\")\nstream.filter(\"highpass\", freq=0.01)\nstream.synchronize()"
      ]
    },
    {
      "cell_type": "markdown",
      "metadata": {},
      "source": [
        "## Station and source coordinates\n\nWe associate the coordinates of the different stations to the corresponding\nseismograms. We first download the inventory of the seismograms from the\nNational Observatory of Athens (NOA) data center. We then associate the\ncoordinates to the seismograms using the method\n:func:`~covseisnet.stream.Stream.assign_coordinates`. The\n:class:`obspy.Inventory` object is then used to plot the stations on a map.\n\nWe also add the known source coordinates of the earthquake to the map, to\ncompare the location of the earthquake with the location of the\nbackprojection results.\n\n"
      ]
    },
    {
      "cell_type": "code",
      "execution_count": null,
      "metadata": {
        "collapsed": false
      },
      "outputs": [],
      "source": [
        "# Get inventory to assign station coordinates\ninventory = stream.download_inventory(datacenter=\"NOA\")\nstream.assign_coordinates(inventory)\nfig = inventory.plot(projection=\"local\", resolution=\"h\")\n\n# Plot source coordinates\nsource_location = 23.3465, 39.8812, 10\nplt.plot(*source_location[:2], \"k*\", markersize=20, transform=PlateCarree())\n\n# Extract natural extent for later use\nextent = fig.axes[0].get_extent(crs=PlateCarree())"
      ]
    },
    {
      "cell_type": "markdown",
      "metadata": {},
      "source": [
        "## Evaluate covariance matrix\n\nWe calculate the covariance matrix of the seismograms using the method\n:func:`~covseisnet.covariance.calculate_covariance_matrix`. We use a window\nduration of 200 s, which allow for the slowest possible seismic waves to\npropagate between the stations (overestimating the travel time). We average\nthe covariance matrix over 5 windows, which results in a single time window.\n\nIn this specific case, the coherence is a function of the frequency only. We\nobserve the earthquake-related signal induces a strong wavefield coherence\n(that is, a low spectral width) between 1 and 10 Hz in particular.\n\n"
      ]
    },
    {
      "cell_type": "code",
      "execution_count": null,
      "metadata": {
        "collapsed": false
      },
      "outputs": [],
      "source": [
        "# Compute covariance matrix\ntimes, frequencies, covariances = csn.covariance.calculate_covariance_matrix(\n    stream, window_duration=200, average=5, whiten=\"none\"\n)\n\n# Calculate coherence\ncoherence = covariances.coherence(kind=\"spectral_width\")\n\n# Show\nfig, ax = plt.subplots()\nax.semilogx(frequencies, coherence.squeeze())\nax.set_xlabel(\"Frequency (Hz)\")\nax.set_ylabel(\"Covariance matrix spectral width\")"
      ]
    },
    {
      "cell_type": "markdown",
      "metadata": {},
      "source": [
        "## Evaluate the pairwise cross-correlation functions\n\nWe calculate the pairwise cross-correlation functions between the seismograms\nusing the method :func:`~covseisnet.correlation.calculate_cross_correlation_matrix`.\nWe exclude the autocorrelation functions from the calculation, as they are not\nuseful for the backprojection.\n\nWe also pre-process the cross-correlation functions by tapering the edges of\nthe functions, bandpass filtering the data between 1 and 5 Hz, calculating the\nenvelope of the data, and smoothing the data with a Gaussian filter with a\nstandard deviation of 30 samples. Finally, we normalize the data by the maximum\nvalue of each cross-correlation function.\n\n"
      ]
    },
    {
      "cell_type": "code",
      "execution_count": null,
      "metadata": {
        "collapsed": false
      },
      "outputs": [],
      "source": [
        "# Calculate cross-correlation functions\nlags, pairs, correlations = csn.correlation.calculate_cross_correlation_matrix(\n    covariances, include_autocorrelation=False\n)\n\n\n# Pre-process the cross-correlation functions\ncorrelations = correlations.taper(0.1)\ncorrelations = correlations.bandpass(frequency_band=(1, 5))\ncorrelations = correlations.envelope()\ncorrelations = correlations.smooth(sigma=30)\ncorrelations /= correlations.max(axis=-1, keepdims=True)\ncorrelations = correlations.squeeze()"
      ]
    },
    {
      "cell_type": "markdown",
      "metadata": {},
      "source": [
        "## Calculate travel times\n\n"
      ]
    },
    {
      "cell_type": "code",
      "execution_count": null,
      "metadata": {
        "collapsed": false
      },
      "outputs": [],
      "source": [
        "# Define the velocity model\nextent_with_depth = extent + (-3, 20)\n\nmodel = csn.velocity.ConstantVelocityModel(\n    extent=extent_with_depth, shape=(40, 40, 40), velocity=3.5\n)\n\n# Obtain the travel times\ntravel_times = {\n    trace.stats.station: TravelTimes(stats=trace.stats, velocity_model=model)\n    for trace in stream\n}\n\n# Calculate differential travel times\ndifferential_travel_times = {}\nfor pair in pairs:\n    station_1, station_2 = pair\n    differential_travel_times[pair] = DifferentialTravelTimes(\n        travel_times[station_1],\n        travel_times[station_2],\n    )"
      ]
    },
    {
      "cell_type": "markdown",
      "metadata": {},
      "source": [
        "## Locate the source with backprojection\n\nWe locate the source of the seismic waves using the class\n:class:`~covseisnet.backprojection.DifferentialBackProjection`. We use the\ndifferential travel times calculated previously and the pre-processed\ncross-correlation functions. We calculate the likelihood of the source location\nusing the method :func:`~covseisnet.backprojection.DifferentialBackProjection.calculate_likelihood`.\n\n"
      ]
    },
    {
      "cell_type": "code",
      "execution_count": null,
      "metadata": {
        "collapsed": false
      },
      "outputs": [],
      "source": [
        "backprojection = DifferentialBackProjection(differential_travel_times)\nbackprojection.calculate_likelihood(cross_correlation=correlations)\n\nax = csn.plot.grid3d(backprojection, cmap=\"viridis\", label=\"Likelihood\")"
      ]
    },
    {
      "cell_type": "markdown",
      "metadata": {},
      "source": [
        "## Compare maximum likelihood with known source location\n\nThe maximum likelihood of the source location is calculated using the method\n:func:`~covseisnet.backprojection.DifferentialBackProjection.maximum_coordinates`.\nWe plot the source location and the maximum likelihood of the source location\non the map.\n\n"
      ]
    },
    {
      "cell_type": "code",
      "execution_count": null,
      "metadata": {
        "collapsed": false
      },
      "outputs": [],
      "source": [
        "# Infer maximum coordinates\nmax_likelihood = backprojection.maximum_coordinates()\n\n# Plot source coordinates\nfig = inventory.plot(projection=\"local\", resolution=\"h\")\nplt.plot(*source_location[:2], \"k*\", markersize=20, transform=PlateCarree())\nplt.plot(*max_likelihood[:2], \"r*\", markersize=20, transform=PlateCarree())"
      ]
    }
  ],
  "metadata": {
    "kernelspec": {
      "display_name": "Python 3",
      "language": "python",
      "name": "python3"
    },
    "language_info": {
      "codemirror_mode": {
        "name": "ipython",
        "version": 3
      },
      "file_extension": ".py",
      "mimetype": "text/x-python",
      "name": "python",
      "nbconvert_exporter": "python",
      "pygments_lexer": "ipython3",
      "version": "3.12.6"
    }
  },
  "nbformat": 4,
  "nbformat_minor": 0
}