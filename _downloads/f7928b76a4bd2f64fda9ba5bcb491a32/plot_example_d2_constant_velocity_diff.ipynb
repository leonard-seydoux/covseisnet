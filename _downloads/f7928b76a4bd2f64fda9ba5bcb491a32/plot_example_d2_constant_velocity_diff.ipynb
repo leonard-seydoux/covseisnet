{
  "cells": [
    {
      "cell_type": "markdown",
      "metadata": {},
      "source": [
        "\n# Constant velocity differential times\n\nThis example shows how to calculate the differential travel times of seismic\nwaves in a constant velocity model between two receivers. We first define the\nmodel and the sources and receivers coordinates. We then calculate the travel\ntimes for each receiver using the class\n:func:`~covseisnet.travel_times.TravelTimes`, and we calculate the differential\ntravel times using the class\n:func:`~covseisnet.travel_times.DifferentialTravelTimes`. Finally, we plot the\ndifferential travel times on a map.\n"
      ]
    },
    {
      "cell_type": "code",
      "execution_count": null,
      "metadata": {
        "collapsed": false
      },
      "outputs": [],
      "source": [
        "import covseisnet as csn"
      ]
    },
    {
      "cell_type": "markdown",
      "metadata": {},
      "source": [
        "## Create a constant velocity model\n\nWe first create a constant velocity model with a velocity of 5 km/s. In order\nto do so, we simply need to define the geographical extent of the model, the\nresolution of the grid, and the velocity.\n\n"
      ]
    },
    {
      "cell_type": "code",
      "execution_count": null,
      "metadata": {
        "collapsed": false
      },
      "outputs": [],
      "source": [
        "model = csn.velocity.ConstantVelocityModel(\n    extent=(40, 41, 50, 51, 0, 20),\n    shape=(20, 20, 20),\n    velocity=3.5,\n)"
      ]
    },
    {
      "cell_type": "markdown",
      "metadata": {},
      "source": [
        "## Calculate the travel times between the sources and the receiver\n\nEach grid point of the model is considered as a source and the receiver is\ndefined by the user. In the example below, the receiver is located at\ncoordinates (40.7, 50.2, 0), somewhere in the model's domain. The travel\ntimes are calculated using the class\n:class:`~covseisnet.travel_times.TravelTimes`.\n\nWe can then represent the travel times on a map using the method\n:func:`~covseisnet.plot.grid3d`.\n\n"
      ]
    },
    {
      "cell_type": "code",
      "execution_count": null,
      "metadata": {
        "collapsed": false
      },
      "outputs": [],
      "source": [
        "# Calculate the travel times\ntraveltime_1 = csn.travel_times.TravelTimes(\n    model, receiver_coordinates=(40.7, 50.2, 0)\n)\n\ntraveltime_2 = csn.travel_times.TravelTimes(\n    model, receiver_coordinates=(40.2, 50.9, 0)\n)\n\n# Plot the traveltime grid\nax = csn.plot.grid3d(\n    traveltime_1,\n    cmap=\"RdPu\",\n    label=\"Travel time (s)\",\n    vmin=0,\n)"
      ]
    },
    {
      "cell_type": "markdown",
      "metadata": {},
      "source": [
        "---------------------------------------\n\nThe differential travel times are calculated using the class\n:class:`~covseisnet.travel_times.DifferentialTravelTimes`. The differential\ntravel times are calculated between the two receivers defined above, and\nshown on a map using the function :func:`~covseisnet.plot.grid3d`.\n\n"
      ]
    },
    {
      "cell_type": "code",
      "execution_count": null,
      "metadata": {
        "collapsed": false
      },
      "outputs": [],
      "source": [
        "# Calculate the differential travel times\ndifferential_traveltime = csn.travel_times.DifferentialTravelTimes(\n    traveltime_1, traveltime_2\n)\n\n# Plot the differential traveltime grid\nax = csn.plot.grid3d(differential_traveltime, label=\"Travel time (s)\")"
      ]
    }
  ],
  "metadata": {
    "kernelspec": {
      "display_name": "Python 3",
      "language": "python",
      "name": "python3"
    },
    "language_info": {
      "codemirror_mode": {
        "name": "ipython",
        "version": 3
      },
      "file_extension": ".py",
      "mimetype": "text/x-python",
      "name": "python",
      "nbconvert_exporter": "python",
      "pygments_lexer": "ipython3",
      "version": "3.12.8"
    }
  },
  "nbformat": 4,
  "nbformat_minor": 0
}