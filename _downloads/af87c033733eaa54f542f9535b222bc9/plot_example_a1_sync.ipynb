{
  "cells": [
    {
      "cell_type": "markdown",
      "metadata": {},
      "source": [
        "\n# Traces synchronization\n\nThis example demonstrates how to synchronize a stream of traces using the\n:func:`~covseisnet.stream.NetworkStream.synchronize` method. This method finds\nthe latest start time and the earliest end time among the traces in the\nstream, and interpolates the traces between these times with a common sampling\ninterval. More information about the method can be found in the documentation.\n"
      ]
    },
    {
      "cell_type": "code",
      "execution_count": null,
      "metadata": {
        "collapsed": false
      },
      "outputs": [],
      "source": [
        "import matplotlib.pyplot as plt\nimport numpy as np\n\nimport covseisnet as csn"
      ]
    },
    {
      "cell_type": "markdown",
      "metadata": {},
      "source": [
        "## Read waveforms\n\nThis section reads an example stream of seismic data, which is shipped with\nObsPy. The stream contains three traces, which are highpass at a very high\nfrequency to see more details in the synchronization.\n\n"
      ]
    },
    {
      "cell_type": "code",
      "execution_count": null,
      "metadata": {
        "collapsed": false
      },
      "outputs": [],
      "source": [
        "# Read the example stream (shipped with ObsPy)\nstream = csn.read()\n\n# Highpass filter the stream to better see the sync in high frequencies\nstream.filter(\"highpass\", freq=1)\n\n# Cut the stream out of the tapering\nstream.cut(\"2009-08-24T00:20:20\", duration=0.3)\n\n\n# Print the original stream\nprint(stream)"
      ]
    },
    {
      "cell_type": "markdown",
      "metadata": {},
      "source": [
        "## Desynchronize\n\nThis first section desynchronizes the traces in the stream, in order to\ndemonstrate the synchronization method from the example stream. The traces\nare shifted in time by different amounts, and a small number of samples are\ncollected for visualization.\n\n"
      ]
    },
    {
      "cell_type": "code",
      "execution_count": null,
      "metadata": {
        "collapsed": false
      },
      "outputs": [],
      "source": [
        "# Add a random shift to the traces (seeded for reproducibility)\nnp.random.seed(42)\nfor trace in stream:\n    trace.stats.starttime += np.random.uniform(-0.005, 0.005)\n\n# Print the desynchronized stream\nprint(stream)"
      ]
    },
    {
      "cell_type": "markdown",
      "metadata": {},
      "source": [
        "## Synchronize\n\nWe now synchronize the traces in the stream using the\n:func:`~covseisnet.stream.NetworkStream.synchronize` method. The method\nfinds the latest start time and the earliest end time among the traces in\nthe stream, and aligns the traces to these times with interpolation.\n\n"
      ]
    },
    {
      "cell_type": "code",
      "execution_count": null,
      "metadata": {
        "collapsed": false
      },
      "outputs": [],
      "source": [
        "# Synchronize the traces\nprocessed_stream = stream.copy()\nprocessed_stream.synchronize(interpolation_method=\"cubic\")\n\n# Print the synchronized stream\nprint(processed_stream)"
      ]
    },
    {
      "cell_type": "markdown",
      "metadata": {},
      "source": [
        "## Compare traces\n\nThe synchronized traces are plotted alongside the original traces to compare\nthe effect of the synchronization method. Note that several interpolation\nmethods are available in the synchronization method. Chech the documentation\nfor more information.\n\n"
      ]
    },
    {
      "cell_type": "code",
      "execution_count": null,
      "metadata": {
        "collapsed": false
      },
      "outputs": [],
      "source": [
        "# Create figure\nfig, axes = plt.subplots(3, sharex=True, sharey=True, constrained_layout=True)\n\n# Loop over traces\nfor trace, synced, ax in zip(stream, processed_stream, axes):\n\n    # Plot traces\n    ax.plot(trace.times(\"matplotlib\"), trace.data, \".-\", label=\"Original\")\n    ax.plot(synced.times(\"matplotlib\"), synced.data, \".-\", label=\"Synced\")\n\n    # Local settings\n    ax.set_title(trace.id)\n    for time in synced.times(\"matplotlib\"):\n        ax.axvline(time, color=\"k\", lw=0.5, alpha=0.5)\n\n# Labels\naxes[0].legend(loc=\"upper right\")\naxes[1].set_ylabel(\"Amplitude (counts)\")\n\n# Date formatting\ncsn.plot.dateticks(axes[-1])"
      ]
    }
  ],
  "metadata": {
    "kernelspec": {
      "display_name": "Python 3",
      "language": "python",
      "name": "python3"
    },
    "language_info": {
      "codemirror_mode": {
        "name": "ipython",
        "version": 3
      },
      "file_extension": ".py",
      "mimetype": "text/x-python",
      "name": "python",
      "nbconvert_exporter": "python",
      "pygments_lexer": "ipython3",
      "version": "3.12.7"
    }
  },
  "nbformat": 4,
  "nbformat_minor": 0
}