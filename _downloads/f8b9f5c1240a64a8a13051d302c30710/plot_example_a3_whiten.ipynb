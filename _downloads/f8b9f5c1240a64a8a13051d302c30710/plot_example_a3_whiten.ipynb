{
  "cells": [
    {
      "cell_type": "markdown",
      "metadata": {},
      "source": [
        "\n# Spectral whitening\n\nThis example show the effect of spectral whitening on a stream of traces.\nThe stream is read from the obspy example data, and the whitening is performed\nwith the method :func:`~covseisnet.stream.NetworkStream.whiten`. The method\napplies a Fourier transform to the traces, divides the spectrum of the traces\nby the modulus of the spectrum (or a smooth version of it), and then applies the\ninverse Fourier transform to the traces.\n"
      ]
    },
    {
      "cell_type": "code",
      "execution_count": null,
      "metadata": {
        "collapsed": false
      },
      "outputs": [],
      "source": [
        "import covseisnet as csn"
      ]
    },
    {
      "cell_type": "markdown",
      "metadata": {},
      "source": [
        "## Read waveforms\n\nThis section reads an example stream of seismic data, which is shipped with\nObsPy. The stream contains three traces.\n\n"
      ]
    },
    {
      "cell_type": "code",
      "execution_count": null,
      "metadata": {
        "collapsed": false
      },
      "outputs": [],
      "source": [
        "# Read the example stream (shipped with ObsPy)\nstream = csn.read()\n\n# Extract the first trace, and preprocess it\ntrace = stream[0]\ntrace.filter(\"highpass\", freq=0.4)\n\n# Plot trace and corresponding spectrum\nax = csn.plot.trace_and_spectrogram(stream.traces[0], window_duration=2)"
      ]
    },
    {
      "cell_type": "markdown",
      "metadata": {},
      "source": [
        "## Spectral whitenin (onebit)\n\nThe spectral whitening is applied to the stream using the method\n:func:`~covseisnet.stream.NetworkStream.whiten`. The method applies a\nFourier transform to the traces, divides the spectrum of the traces by the\nmodulus of the spectrum, and then applies the inverse Fourier transform to\nthe traces.\n\n"
      ]
    },
    {
      "cell_type": "code",
      "execution_count": null,
      "metadata": {
        "collapsed": false
      },
      "outputs": [],
      "source": [
        "whitened_stream = stream.copy()\nwhitened_stream.whiten(window_duration=10, smooth_length=0)\n\n# Plot whitened trace and corresponding spectrum\nax = csn.plot.trace_and_spectrogram(\n    whitened_stream.traces[0], window_duration=2\n)\nax[0].set_title(\"Whitened trace\")\nax[1].set_title(\"Whitened spectrogram\")"
      ]
    },
    {
      "cell_type": "markdown",
      "metadata": {},
      "source": [
        "## Spectral whitening (smooth)\n\nThe spectral whitening is applied to the stream using the method\n:func:`~covseisnet.stream.NetworkStream.whiten`. The method applies a Fourier\ntransform to the traces, divides the spectrum of the traces by a smooth\nversion of the modulus of the spectrum, and then applies the inverse Fourier\ntransform. The smoothing is performed with a Savitzky-Golay filter, with a\nwindow length of 31 frequency bins.\n\n"
      ]
    },
    {
      "cell_type": "code",
      "execution_count": null,
      "metadata": {
        "collapsed": false
      },
      "outputs": [],
      "source": [
        "whitened_stream = stream.copy()\nwhitened_stream.whiten(window_duration=10, smooth_length=31)\n\n# Plot whitened trace and corresponding spectrum\nax = csn.plot.trace_and_spectrogram(\n    whitened_stream.traces[0], window_duration=2\n)\nax[0].set_title(\"Whitened trace (smooth)\")\nax[1].set_title(\"Whitened spectrogram (smooth)\")"
      ]
    }
  ],
  "metadata": {
    "kernelspec": {
      "display_name": "Python 3",
      "language": "python",
      "name": "python3"
    },
    "language_info": {
      "codemirror_mode": {
        "name": "ipython",
        "version": 3
      },
      "file_extension": ".py",
      "mimetype": "text/x-python",
      "name": "python",
      "nbconvert_exporter": "python",
      "pygments_lexer": "ipython3",
      "version": "3.12.7"
    }
  },
  "nbformat": 4,
  "nbformat_minor": 0
}