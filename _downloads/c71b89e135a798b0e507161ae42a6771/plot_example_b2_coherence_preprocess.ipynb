{
  "cells": [
    {
      "cell_type": "markdown",
      "metadata": {},
      "source": [
        "\n# Compare pre-processing\n\nSpatial coherence on the Piton de la Fournaise volcano.\n\nWe here reproduce a part of the result published in :footcite:`seydoux_detecting_2016`.\n"
      ]
    },
    {
      "cell_type": "code",
      "execution_count": null,
      "metadata": {
        "collapsed": false
      },
      "outputs": [],
      "source": [
        "import os\n\nimport matplotlib.pyplot as plt\n\nimport covseisnet as csn"
      ]
    },
    {
      "cell_type": "markdown",
      "metadata": {},
      "source": [
        "## Read and pre-process stream\n\nThe stream is read and pre-processed by detrending, tapering, and highpass\nfiltering. Several other pre-processing methods are available in the\n:class:`~covseisnet.stream.NetworkStream` classs. The stream is then whitened\nusing the method :func:`~covseisnet.stream.NetworkStream.whiten`. The method\nrequires a window duration in seconds and a smooth length to smooth the\nspectral whitening.\n\n"
      ]
    },
    {
      "cell_type": "code",
      "execution_count": null,
      "metadata": {
        "collapsed": false
      },
      "outputs": [],
      "source": [
        "# Path to the example stream\nfilepath_waveforms = \"../data/undervolc_example.mseed\"\n\n# Download stream if not available (this may take a while)\nif not os.path.exists(filepath_waveforms):\n    csn.data.download_undervolc_data()\n\n# Read example stream\nstream = csn.read(filepath_waveforms)\nstream.filter(\"highpass\", freq=0.5)"
      ]
    },
    {
      "cell_type": "markdown",
      "metadata": {},
      "source": [
        "## Covariance matrix\n\nThe covariance matrix is calculated using the method :func:`~covseisnet.covariance.calculate_covariance_matrix`. The method returns the times, frequencies, and covariances of the covariance matrix. Among the parameters of the method, the window duration and the number of windows are important to consider. The window duration is the length of the Fourier estimation window in seconds, and the number of windows is the number of windows to average to estimate the covariance matrix. We can then visualize the covariance matrix at a given time and frequency, and its corresponding eigenvalues.\n\n"
      ]
    },
    {
      "cell_type": "code",
      "execution_count": null,
      "metadata": {
        "collapsed": false
      },
      "outputs": [],
      "source": [
        "# No pre-processing\ncase_1 = \"Original\"\nstream_1 = stream.copy()\nwhiten_1 = \"none\"\n\n# Pre-process stream with temporal normalization\ncase_2 = \"Temporal normalization\"\nstream_2 = stream.copy()\nstream_2.time_normalize(method=\"smooth\", smooth_length=901)\nstream_2.taper(max_percentage=0.01)\nwhiten_2 = \"none\"\n\n# Pre-process stream with whitening\ncase_3 = \"Whitening on subwindows\"\nstream_3 = stream.copy()\nwhiten_3 = \"window\"\n\n# Pre-process stream with slice whitening\ncase_4 = \"Whitening on slice\"\nstream_4 = stream.copy()\nwhiten_4 = \"slice\"\n\n# Pre-process stream with whitening and temporal normalization\ncase_5 = \"Temporal normalization and whitening on slice\"\nstream_5 = stream.copy()\nstream_5.time_normalize(method=\"smooth\", smooth_length=1001)\nstream_5.taper(max_percentage=0.01)\nwhiten_5 = \"slice\"\n\n# Collect\ncases = [case_1, case_2, case_3, case_4, case_5]\nstreams = [stream_1, stream_2, stream_3, stream_4, stream_5]\nwhitens = [whiten_1, whiten_2, whiten_3, whiten_4, whiten_5]\n\n# Process cases\ncoherences = []\nfor stream, case, whiten in zip(streams, cases, whitens):\n\n    # Calculate covariance matrix\n    times, frequencies, covariances = csn.calculate_covariance_matrix(\n        stream, window_duration=20, average=20, whiten=whiten\n    )\n\n    # Calculate coherence\n    coherences.append(covariances.coherence())"
      ]
    },
    {
      "cell_type": "markdown",
      "metadata": {},
      "source": [
        "## Plot\n\nWe can now plot the coherence for each case, with an example trace at the top.\nThe colorbars are fixed to better compare the coherences, and in particular,\nthe contrast within each case.\n\n"
      ]
    },
    {
      "cell_type": "code",
      "execution_count": null,
      "metadata": {
        "collapsed": false
      },
      "outputs": [],
      "source": [
        "# Find global maximum\nvmax = max([coherence.max() for coherence in coherences])\n\n# Show\nfig, ax = plt.subplots(\n    nrows=len(cases) + 1,\n    sharex=True,\n    figsize=(6, 8),\n    constrained_layout=True,\n)\n\n# Plot a trace\nax[0].plot(stream.times(\"matplotlib\"), stream.traces[0].data)\nax[0].set_title(f\"Trace from {stream.traces[0].id}\")\nax[0].set_ylabel(\"Amplitude\")\n\n# Plot coherences\nfor i, (case, coherence) in enumerate(zip(cases, coherences)):\n    csn.plot.coherence(\n        times, frequencies, coherence, ax=ax[i + 1], vmax=vmax, f_min=0.5\n    )\n    ax[i + 1].set_title(case)\n    ax[i + 1].set_ylabel(\"Frequency (Hz)\")\ncsn.plot.dateticks(ax[-1])"
      ]
    }
  ],
  "metadata": {
    "kernelspec": {
      "display_name": "Python 3",
      "language": "python",
      "name": "python3"
    },
    "language_info": {
      "codemirror_mode": {
        "name": "ipython",
        "version": 3
      },
      "file_extension": ".py",
      "mimetype": "text/x-python",
      "name": "python",
      "nbconvert_exporter": "python",
      "pygments_lexer": "ipython3",
      "version": "3.12.8"
    }
  },
  "nbformat": 4,
  "nbformat_minor": 0
}