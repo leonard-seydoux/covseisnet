{
  "cells": [
    {
      "cell_type": "markdown",
      "metadata": {},
      "source": [
        "\n# Temporal normalization\n\nThis example shows how to perform a temporal normalization of traces with\ndifferent methods. \n"
      ]
    },
    {
      "cell_type": "code",
      "execution_count": null,
      "metadata": {
        "collapsed": false
      },
      "outputs": [],
      "source": [
        "import matplotlib.pyplot as plt\n\nimport covseisnet as csn"
      ]
    },
    {
      "cell_type": "markdown",
      "metadata": {},
      "source": [
        "## Read waveforms\n\nThis section reads an example stream of seismic data, which is shipped with\nObsPy. The stream contains three traces.\n\n"
      ]
    },
    {
      "cell_type": "code",
      "execution_count": null,
      "metadata": {
        "collapsed": false
      },
      "outputs": [],
      "source": [
        "# Read the example stream (shipped with ObsPy)\nstream = csn.read()\n\n# Highpass filter the stream to better see the sync in high frequencies\nstream.filter(\"highpass\", freq=1.0)\n\n# Print the original stream\nprint(stream)"
      ]
    },
    {
      "cell_type": "markdown",
      "metadata": {},
      "source": [
        "----------------------\n\nWe here show the trace normalized with different methods. The methods are\napplied to the stream, and the normalized traces are stored in a list. See\\\n:footcite:`bensen2007processing` for more information on the normalization\n\n"
      ]
    },
    {
      "cell_type": "code",
      "execution_count": null,
      "metadata": {
        "collapsed": false
      },
      "outputs": [],
      "source": [
        "# Initialize the list of normalized streams\nnormalization_methods = [\"onebit\", \"smooth\"]\nnormalized_streams = []\n\n# Normalize the stream with the different methods\nfor method in normalization_methods:\n    normalized_stream = stream.copy()\n    normalized_stream.time_normalize(method=method)\n    normalized_streams.append(normalized_stream)"
      ]
    },
    {
      "cell_type": "markdown",
      "metadata": {},
      "source": [
        "## Comparison\n\nThis section compares the original stream with the normalized streams. The\ntraces are plotted in a figure, where the original stream is plotted first,\nand the normalized streams are plotted below.\n\n"
      ]
    },
    {
      "cell_type": "code",
      "execution_count": null,
      "metadata": {
        "collapsed": false
      },
      "outputs": [],
      "source": [
        "# Concatenate the original stream with the normalized streams\nstreams = [stream] + normalized_streams\nlabels = [\"original\"] + normalization_methods\n\n# Create gigure\nfig, axes = plt.subplots(len(streams), sharex=True, constrained_layout=True)\n\n# Plot each case\nfor ax, stream, label in zip(axes, streams, labels):\n    ax.plot(stream.times(\"matplotlib\"), stream.traces[0].data)\n    ax.set_title(label.title())\n    ax.set_ylabel(\"Amplitude\")\n    ax.grid()\n\n# Set the x-axis label\ncsn.plot.dateticks(axes[-1])"
      ]
    },
    {
      "cell_type": "markdown",
      "metadata": {},
      "source": [
        "## References\n\n.. footbibliography::\n\n"
      ]
    }
  ],
  "metadata": {
    "kernelspec": {
      "display_name": "Python 3",
      "language": "python",
      "name": "python3"
    },
    "language_info": {
      "codemirror_mode": {
        "name": "ipython",
        "version": 3
      },
      "file_extension": ".py",
      "mimetype": "text/x-python",
      "name": "python",
      "nbconvert_exporter": "python",
      "pygments_lexer": "ipython3",
      "version": "3.12.8"
    }
  },
  "nbformat": 4,
  "nbformat_minor": 0
}