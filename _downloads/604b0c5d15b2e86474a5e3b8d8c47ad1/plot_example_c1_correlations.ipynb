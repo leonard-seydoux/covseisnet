{
  "cells": [
    {
      "cell_type": "markdown",
      "metadata": {},
      "source": [
        "\n# Cross-correlation at USArray\n\nThis example shows how to calculate the cross-correlation functions from five\nsensors of the USArray network stacked over two months from January 1, 2006 to\nMarch 1, 2006. \n\nAt first, we made sure to download and provide an example of the USArray data\nand inventory. If for any reason, the data is not available under the ``data``\nfolder under the root of the repository, or if you would like to run this\nscript outside of the repository, the data will be automatically downloaded\nwith the :func:`covseisnet.data.download_usarray_data` function (see in the\nsecond cell of this notebook).\n\nNote that the sampling rate of these traces is voluntarily low to reduce the\nsize of the example data and the speed of the calculations. The data is\ndownsampled at 0.2 Hz.\n"
      ]
    },
    {
      "cell_type": "code",
      "execution_count": null,
      "metadata": {
        "collapsed": false
      },
      "outputs": [],
      "source": [
        "from os import path\n\n\nimport matplotlib.pyplot as plt\nimport numpy as np\n\nimport covseisnet as csn"
      ]
    },
    {
      "cell_type": "markdown",
      "metadata": {},
      "source": [
        "## Read and pre-process stream\n\nWe first read the example stream and pre-process it. At first, we simply\ndetrend and high-pass filter the data. Because the USArray data is not\nsynchronized at these stations, especially in 2006, we synchronize the\nstream using the method\n:meth:`~covseisnet.stream.NetworkStream.synchronize`. This method is\nautomatic and can be used in a custom way. We then normalize the traces for\ncross-correlation in the time domain.\n\n"
      ]
    },
    {
      "cell_type": "code",
      "execution_count": null,
      "metadata": {
        "collapsed": false
      },
      "outputs": [],
      "source": [
        "# Path to the example stream\nFILEPATH_WAVEFORMS = \"../data/usarray_example.mseed\"\nFILEPATH_INVENTORY = \"../data/usarray_example.xml\"\n\n# Download the data if does not exist\nif not path.exists(FILEPATH_WAVEFORMS) or not path.exists(FILEPATH_INVENTORY):\n    csn.data.download_usarray_data()\n\n# Read example stream\nstream = csn.read(FILEPATH_WAVEFORMS)\n\n# Pre-process stream\nstream.detrend(\"linear\")\nstream.filter(\"highpass\", freq=0.001)\nstream.synchronize()\nstream.time_normalize(method=\"smooth\", smooth_length=101)"
      ]
    },
    {
      "cell_type": "markdown",
      "metadata": {},
      "source": [
        "## Assign coordinates to the stream\n\nWe finally assign the coordinates to the stream using the method\n:meth:`~covseisnet.stream.NetworkStream.assign_coordinates`. This method\nrequires the path to the inventory file of the network. If you do not have\nthe inventory file, you can download it with the method\n:func:`~covseisnet.stream.NetworkStream.download_coordinates`. These methods\ndeal directly with the :class:`~obspy.core.inventory.Inventory` object of\nthe traces within the stream. Thanks to a lot of useful methods therein, we\ncan easily plot the inventory on a map and perform other selection tasks.\n\n"
      ]
    },
    {
      "cell_type": "code",
      "execution_count": null,
      "metadata": {
        "collapsed": false
      },
      "outputs": [],
      "source": [
        "# Assign coordinates to the stream\nstream.assign_coordinates(FILEPATH_INVENTORY)\n\n# Plot inventory\nstream.inventory.plot(projection=\"local\", resolution=\"i\")"
      ]
    },
    {
      "cell_type": "markdown",
      "metadata": {},
      "source": [
        "## Covariance matrix\n\nThe covariance matrix is calculated using the method\n:func:`~covseisnet.covariance.calculate_covariance_matrix`. The method\nreturns the times, frequencies, and covariances of the covariance matrix.\nAmong the parameters of the method, the window duration and the number of\nwindows are important to consider. The window duration is the length of the\nFourier estimation window in seconds, and the number of windows is the\nnumber of windows to average to estimate the covariance matrix.\n\nWe can then visualize the covariance matrix at a given time and frequency,\nand its corresponding eigenvalues.\n\n"
      ]
    },
    {
      "cell_type": "code",
      "execution_count": null,
      "metadata": {
        "collapsed": false
      },
      "outputs": [],
      "source": [
        "# Calculate covariance matrix\ntimes, frequencies, covariances = csn.calculate_covariance_matrix(\n    stream, window_duration=800, average=500, whiten=\"window\"\n)"
      ]
    },
    {
      "cell_type": "markdown",
      "metadata": {},
      "source": [
        "## Spectral width\n\nWe here extract the coherence from the covariance matrix. The coherence is\ncalculated using the method\n:func:`~covseisnet.covariance.CovarianceMatrix.coherence`. It can either\nmeasure the spectral width of the eigenvalue distribution at each frequency,\nor with applying the formula of the Neumann entropy.\n\n"
      ]
    },
    {
      "cell_type": "code",
      "execution_count": null,
      "metadata": {
        "collapsed": false
      },
      "outputs": [],
      "source": [
        "frequency_band = 1 / 80, 1 / 15\n\n# Calculate coherence\ncoherence = covariances.coherence(kind=\"spectral_width\")\n\n# Show\nax = csn.plot.stream_and_coherence(\n    stream, times, frequencies, coherence, trace_factor=0.1\n)\n\n# Indicate frequency band\nax[1].axhspan(*frequency_band, facecolor=\"none\", edgecolor=\"w\", clip_on=False)"
      ]
    },
    {
      "cell_type": "markdown",
      "metadata": {},
      "source": [
        "## Cross-correlation\n\nThe cross-correlation matrix is calculated using the method\n:func:`~covseisnet.correlation.calculate_cross_correlation_matrix`. The\nmethod returns the lags, pairs names, and cross-correlation functions\ncalculated from the inverse Fourier transform of the covariance matrix. The\nmethod requires the covariance matrix as input.\n\nWe can then visualize the cross-correlation functions between the sensors as\na function of the lag time and the distance between the sensors. Since we\nselected a frequency band where no clear localized source is observed in the\ncovariance matrix spectral width, we can assume that the cross-correlation\nfunctions are symmetric as we observe in the plot. We indicate the speed of\nRayleigh waves at 3.2 km/s with dashed lines.\n\n"
      ]
    },
    {
      "cell_type": "code",
      "execution_count": null,
      "metadata": {
        "collapsed": false
      },
      "outputs": [],
      "source": [
        "# Calculate cross-correlation\nlags, pairs, cross_correlation = csn.calculate_cross_correlation_matrix(\n    covariances\n)\n\n# Get inter-station distance\ndistances = csn.pairwise_great_circle_distances_from_stats(\n    cross_correlation.stats\n)\n\n# Bandpass filter\ncross_correlation = cross_correlation.mean(axis=1)\ncross_correlation = cross_correlation.bandpass(frequency_band)\ncross_correlation = cross_correlation.taper()\n\n# Plot\nfig, ax = plt.subplots()\nfor i_pair, pair in enumerate(pairs):\n    cc = cross_correlation[i_pair] / abs(cross_correlation[i_pair]).max() * 40\n    ax.plot(lags, cc + distances[i_pair], color=\"C0\", alpha=0.8)\n\n# Plot some velocity\nv = 3.2\nax.axline((0, 0), slope=v, color=\"C1\", label=f\"{v} km/s\", ls=\"--\")\nax.axline((0, 0), slope=-v, color=\"C1\", ls=\"--\")\n\nax.legend(loc=\"lower left\")\nax.grid()\nperiods = list(sorted(int(1 / f) for f in frequency_band))\nax.set_title(\n    f\"Cross-correlation functions between {periods[0]} and {periods[1]} seconds\"\n)\nax.set_xlabel(\"Lag time (s)\")\nax.set_ylabel(\"Pairwise distance (km)\")"
      ]
    }
  ],
  "metadata": {
    "kernelspec": {
      "display_name": "Python 3",
      "language": "python",
      "name": "python3"
    },
    "language_info": {
      "codemirror_mode": {
        "name": "ipython",
        "version": 3
      },
      "file_extension": ".py",
      "mimetype": "text/x-python",
      "name": "python",
      "nbconvert_exporter": "python",
      "pygments_lexer": "ipython3",
      "version": "3.12.7"
    }
  },
  "nbformat": 4,
  "nbformat_minor": 0
}