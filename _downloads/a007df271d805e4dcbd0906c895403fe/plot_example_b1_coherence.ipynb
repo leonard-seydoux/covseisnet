{
  "cells": [
    {
      "cell_type": "markdown",
      "metadata": {},
      "source": [
        "\n# Spectral width\n\nSpatial coherence on the Piton de la Fournaise volcano.\n\nWe here reproduce a part of the result published in\n:cite:t:`seydoux_detecting_2016`, and revisited over this particular time\nperiod in :cite:t:`journeau_seismic_2022`. In this example, the processing\nis made in two domains: first in the time domain with a smoothing of the\nenvelope of the signal, and then in the frequency domain with the estimation\nof the covariance matrix.\n"
      ]
    },
    {
      "cell_type": "code",
      "execution_count": null,
      "metadata": {
        "collapsed": false
      },
      "outputs": [],
      "source": [
        "import os\n\nimport covseisnet as csn"
      ]
    },
    {
      "cell_type": "markdown",
      "metadata": {},
      "source": [
        "## Read and pre-process stream\n\nThe stream is read and pre-processed by detrending, tapering, and highpass\nfiltering. Several other pre-processing methods are available in the\n:class:`~covseisnet.stream.NetworkStream` classs. The stream is then whitened\nusing the method :func:`~covseisnet.stream.NetworkStream.whiten`. The method\nrequires a window duration in seconds and a smooth length to smooth the\nspectral whitening.\n\n"
      ]
    },
    {
      "cell_type": "code",
      "execution_count": null,
      "metadata": {
        "collapsed": false
      },
      "outputs": [],
      "source": [
        "# Path to the example stream\nfilepath_waveforms = \"../data/undervolc_example.mseed\"\n\n# Download stream if not available\nif not os.path.exists(filepath_waveforms):\n    csn.data.download_undervolc_data()\n\n# Read example stream\nstream = csn.read(filepath_waveforms)\nstream.filter(\"highpass\", freq=0.5)\nstream.time_normalize(method=\"smooth\", smooth_length=1001)\nstream.taper(max_percentage=0.01)"
      ]
    },
    {
      "cell_type": "markdown",
      "metadata": {},
      "source": [
        "## Covariance matrix\n\nThe covariance matrix is calculated using the method\n:func:`~covseisnet.covariance.calculate_covariance_matrix`. The method\nreturns the times, frequencies, and covariances of the covariance matrix.\nAmong the parameters of the method, the window duration and the number of\nwindows are important to consider. The window duration is the length of the\nFourier estimation window in seconds, and the number of windows is the\nnumber of windows to average to estimate the covariance matrix.\n\nWe can then visualize the covariance matrix at a given time and frequency,\nand its corresponding eigenvalues.\n\n"
      ]
    },
    {
      "cell_type": "code",
      "execution_count": null,
      "metadata": {
        "collapsed": false
      },
      "outputs": [],
      "source": [
        "# Calculate covariance matrix\ntimes, frequencies, covariances = csn.calculate_covariance_matrix(\n    stream, window_duration=20, average=20, whiten=\"slice\"\n)\n\n# Show covariance from sample window and frequency\nt_index = 60\nf_index = 100\ncsn.plot.covariance_matrix_modulus_and_spectrum(covariances[t_index, f_index])"
      ]
    },
    {
      "cell_type": "markdown",
      "metadata": {},
      "source": [
        "## Spectral width\n\nWe here extract the coherence from the covariance matrix. The coherence is\ncalculated using the method\n:func:`~covseisnet.covariance.CovarianceMatrix.coherence`. It can either\nmeasure the spectral width of the eigenvalue distribution at each frequency,\nor with applying the formula of the Neumann entropy.\n\n"
      ]
    },
    {
      "cell_type": "code",
      "execution_count": null,
      "metadata": {
        "collapsed": false
      },
      "outputs": [],
      "source": [
        "# Calculate coherence\ncoherence = covariances.coherence(kind=\"spectral_width\")\n\n# Show\nax = csn.plot.stream_and_coherence(\n    stream,\n    times,\n    frequencies,\n    coherence,\n    f_min=0.5,\n)\n\n# Mark extracted time and frequency\nax[1].axvline(times[t_index], color=\"k\", linestyle=\"--\", lw=0.7)\nax[1].axhline(frequencies[f_index], color=\"k\", linestyle=\"--\", lw=0.7)"
      ]
    }
  ],
  "metadata": {
    "kernelspec": {
      "display_name": "Python 3",
      "language": "python",
      "name": "python3"
    },
    "language_info": {
      "codemirror_mode": {
        "name": "ipython",
        "version": 3
      },
      "file_extension": ".py",
      "mimetype": "text/x-python",
      "name": "python",
      "nbconvert_exporter": "python",
      "pygments_lexer": "ipython3",
      "version": "3.12.6"
    }
  },
  "nbformat": 4,
  "nbformat_minor": 0
}